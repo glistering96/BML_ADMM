{
 "cells": [
  {
   "cell_type": "code",
   "execution_count": 1,
   "id": "0432ae31",
   "metadata": {
    "ExecuteTime": {
     "end_time": "2022-05-19T07:27:25.667486Z",
     "start_time": "2022-05-19T07:27:25.086365Z"
    }
   },
   "outputs": [],
   "source": [
    "import numpy as np"
   ]
  },
  {
   "cell_type": "code",
   "execution_count": 14,
   "id": "a7001d1a",
   "metadata": {
    "ExecuteTime": {
     "end_time": "2022-05-19T07:32:28.901922Z",
     "start_time": "2022-05-19T07:32:28.884919Z"
    }
   },
   "outputs": [],
   "source": [
    "d_i = 6\n",
    "c = 10\n",
    "W_i = 10 ** -3 * np.eye(d_i, c)\n",
    "G_i = 1/(2*np.linalg.norm(W_i, ord=2, axis=1))"
   ]
  },
  {
   "cell_type": "code",
   "execution_count": 18,
   "id": "e17fcf47",
   "metadata": {
    "ExecuteTime": {
     "end_time": "2022-05-19T07:34:44.562680Z",
     "start_time": "2022-05-19T07:34:44.553686Z"
    }
   },
   "outputs": [
    {
     "data": {
      "text/plain": [
       "array([0.001, 0.001, 0.001, 0.001, 0.001, 0.001])"
      ]
     },
     "execution_count": 18,
     "metadata": {},
     "output_type": "execute_result"
    }
   ],
   "source": [
    "np.linalg.norm(W_i, ord=2, axis=1)"
   ]
  },
  {
   "cell_type": "code",
   "execution_count": 19,
   "id": "60e25ffe",
   "metadata": {
    "ExecuteTime": {
     "end_time": "2022-05-19T07:38:08.213180Z",
     "start_time": "2022-05-19T07:38:08.200170Z"
    }
   },
   "outputs": [
    {
     "data": {
      "text/plain": [
       "(6, 10)"
      ]
     },
     "execution_count": 19,
     "metadata": {},
     "output_type": "execute_result"
    }
   ],
   "source": [
    "W_i.shape"
   ]
  },
  {
   "cell_type": "code",
   "execution_count": 16,
   "id": "bb32f13a",
   "metadata": {
    "ExecuteTime": {
     "end_time": "2022-05-19T07:32:29.292010Z",
     "start_time": "2022-05-19T07:32:29.286009Z"
    }
   },
   "outputs": [
    {
     "data": {
      "text/plain": [
       "array([[500.,   0.,   0.,   0.,   0.,   0.],\n",
       "       [  0., 500.,   0.,   0.,   0.,   0.],\n",
       "       [  0.,   0., 500.,   0.,   0.,   0.],\n",
       "       [  0.,   0.,   0., 500.,   0.,   0.],\n",
       "       [  0.,   0.,   0.,   0., 500.,   0.],\n",
       "       [  0.,   0.,   0.,   0.,   0., 500.]])"
      ]
     },
     "execution_count": 16,
     "metadata": {},
     "output_type": "execute_result"
    }
   ],
   "source": [
    "np."
   ]
  },
  {
   "cell_type": "code",
   "execution_count": 24,
   "id": "d9ffb008",
   "metadata": {
    "ExecuteTime": {
     "end_time": "2022-05-19T08:54:48.378099Z",
     "start_time": "2022-05-19T08:54:48.360104Z"
    }
   },
   "outputs": [
    {
     "data": {
      "text/plain": [
       "array([6, 6])"
      ]
     },
     "execution_count": 24,
     "metadata": {},
     "output_type": "execute_result"
    }
   ],
   "source": [
    "np.sum(np.array([[1,2,3,],[1,2,3,]]), axis=1)"
   ]
  },
  {
   "cell_type": "code",
   "execution_count": 36,
   "id": "50984a96",
   "metadata": {
    "ExecuteTime": {
     "end_time": "2022-05-19T11:48:22.731573Z",
     "start_time": "2022-05-19T11:48:22.715578Z"
    }
   },
   "outputs": [
    {
     "data": {
      "text/plain": [
       "array([[2, 4, 6],\n",
       "       [2, 4, 6]])"
      ]
     },
     "execution_count": 36,
     "metadata": {},
     "output_type": "execute_result"
    }
   ],
   "source": [
    "a = np.sum([np.array([[1,2,3,],[1,2,3,]]), np.array([[1,2,3,],[1,2,3,]])], axis=1)\n",
    "a"
   ]
  },
  {
   "cell_type": "code",
   "execution_count": 38,
   "id": "5bb9cb64",
   "metadata": {
    "ExecuteTime": {
     "end_time": "2022-05-19T11:48:34.674247Z",
     "start_time": "2022-05-19T11:48:34.663253Z"
    }
   },
   "outputs": [
    {
     "data": {
      "text/plain": [
       "array([4., 4.])"
      ]
     },
     "execution_count": 38,
     "metadata": {},
     "output_type": "execute_result"
    }
   ],
   "source": [
    "np.mean(a, axis=1)"
   ]
  },
  {
   "cell_type": "code",
   "execution_count": 31,
   "id": "97e4104c",
   "metadata": {
    "ExecuteTime": {
     "end_time": "2022-05-19T11:04:19.351474Z",
     "start_time": "2022-05-19T11:04:19.336469Z"
    }
   },
   "outputs": [
    {
     "data": {
      "text/plain": [
       "array([7.48331477, 7.48331477])"
      ]
     },
     "execution_count": 31,
     "metadata": {},
     "output_type": "execute_result"
    }
   ],
   "source": [
    "np.linalg.norm(a, axis=1)"
   ]
  },
  {
   "cell_type": "code",
   "execution_count": 35,
   "id": "72cbb9d0",
   "metadata": {
    "ExecuteTime": {
     "end_time": "2022-05-19T11:27:47.740728Z",
     "start_time": "2022-05-19T11:27:47.731725Z"
    }
   },
   "outputs": [
    {
     "data": {
      "text/plain": [
       "array([14, 14])"
      ]
     },
     "execution_count": 35,
     "metadata": {},
     "output_type": "execute_result"
    }
   ],
   "source": [
    "a = np.array([[1,2,3], [1,2,3]])\n",
    "b = np.array([1,2,3])\n",
    "\n",
    "np.matmul(a, b)"
   ]
  },
  {
   "cell_type": "code",
   "execution_count": null,
   "id": "5a7c7e4a",
   "metadata": {},
   "outputs": [],
   "source": [
    "np"
   ]
  }
 ],
 "metadata": {
  "kernelspec": {
   "display_name": "Python 3 (ipykernel)",
   "language": "python",
   "name": "python3"
  },
  "language_info": {
   "codemirror_mode": {
    "name": "ipython",
    "version": 3
   },
   "file_extension": ".py",
   "mimetype": "text/x-python",
   "name": "python",
   "nbconvert_exporter": "python",
   "pygments_lexer": "ipython3",
   "version": "3.9.6"
  },
  "toc": {
   "base_numbering": 1,
   "nav_menu": {},
   "number_sections": true,
   "sideBar": true,
   "skip_h1_title": false,
   "title_cell": "Table of Contents",
   "title_sidebar": "Contents",
   "toc_cell": false,
   "toc_position": {},
   "toc_section_display": true,
   "toc_window_display": false
  }
 },
 "nbformat": 4,
 "nbformat_minor": 5
}
