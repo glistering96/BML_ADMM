{
 "cells": [
  {
   "cell_type": "code",
   "execution_count": 31,
   "id": "0432ae31",
   "metadata": {
    "ExecuteTime": {
     "end_time": "2022-05-19T07:27:25.667486Z",
     "start_time": "2022-05-19T07:27:25.086365Z"
    },
    "pycharm": {
     "is_executing": true,
     "name": "#%%\n"
    }
   },
   "outputs": [],
   "source": [
    "import numpy as np"
   ]
  },
  {
   "cell_type": "markdown",
   "id": "7624f81e",
   "metadata": {},
   "source": [
    "$F_{q,q} = \\frac{1}{2}\\left\\|\\sum_{i=1}^{v} a_{i} \\boldsymbol{x}_{i q} \\boldsymbol{W}_{i}-\\boldsymbol{y}_{q}\\right\\|_{2}^{-1} \\cdot \\operatorname{Ind}\\left(\\left\\|\\sum_{i=1}^{v} a_{i} \\boldsymbol{x}_{i q} \\boldsymbol{W}_{i}-\\boldsymbol{y}_{q}\\right\\|_{2}\\right)$"
   ]
  },
  {
   "cell_type": "code",
   "execution_count": 32,
   "id": "5a7c7e4a",
   "metadata": {
    "pycharm": {
     "name": "#%%\n"
    }
   },
   "outputs": [
    {
     "data": {
      "text/plain": [
       "array([[1, 3],\n",
       "       [1, 1],\n",
       "       [1, 2]])"
      ]
     },
     "execution_count": 32,
     "metadata": {},
     "output_type": "execute_result"
    }
   ],
   "source": [
    "term = np.array([[1, 3], [1,1], [1,2]])\n",
    "term"
   ]
  },
  {
   "cell_type": "markdown",
   "id": "7c6ee6be",
   "metadata": {},
   "source": [
    "Let term[q,:] to be $\\sum_{i=1}^{v} a_{i} \\boldsymbol{x}_{i q} \\boldsymbol{W}_{i}-\\boldsymbol{y}_{q}$"
   ]
  },
  {
   "cell_type": "code",
   "execution_count": 33,
   "id": "27f58007",
   "metadata": {},
   "outputs": [],
   "source": [
    "eps = 1.9"
   ]
  },
  {
   "cell_type": "code",
   "execution_count": 52,
   "id": "25dc47f7",
   "metadata": {
    "pycharm": {
     "name": "#%%\n"
    }
   },
   "outputs": [
    {
     "name": "stdout",
     "output_type": "stream",
     "text": [
      "1.9\n",
      "1.4142135623730951\n",
      "1.9\n",
      "Total: 5.214213562373095\n"
     ]
    }
   ],
   "source": [
    "# naive implementation from equation 1\n",
    "total = 0\n",
    "\n",
    "for q in range(term.shape[0]):\n",
    "    i_th_value = 0\n",
    "    i_th_value += min(np.linalg.norm(term[q, :], ord=2), eps)    \n",
    "    print(i_th_value)\n",
    "    total += i_th_value\n",
    "    \n",
    "print(f\"Total: {total}\")"
   ]
  },
  {
   "cell_type": "code",
   "execution_count": 61,
   "id": "539f1940",
   "metadata": {},
   "outputs": [
    {
     "data": {
      "text/plain": [
       "array([3.16227766, 1.41421356, 2.23606798])"
      ]
     },
     "execution_count": 61,
     "metadata": {},
     "output_type": "execute_result"
    }
   ],
   "source": [
    "np.linalg.norm(term, axis=1)"
   ]
  },
  {
   "cell_type": "code",
   "execution_count": 54,
   "id": "ca00de5f",
   "metadata": {
    "pycharm": {
     "name": "#%%\n"
    }
   },
   "outputs": [
    {
     "data": {
      "text/plain": [
       "(array([0, 2], dtype=int64),)"
      ]
     },
     "execution_count": 54,
     "metadata": {},
     "output_type": "execute_result"
    }
   ],
   "source": [
    "norm = np.linalg.norm(term, axis=1) # calculate norm of each row, elements of F diagonal \n",
    "off_indicies = np.where(norm > eps)\n",
    "off_indicies"
   ]
  },
  {
   "cell_type": "code",
   "execution_count": 64,
   "id": "d94e3806",
   "metadata": {},
   "outputs": [
    {
     "data": {
      "text/plain": [
       "array([[0.        , 0.        , 0.        ],\n",
       "       [0.        , 0.35355339, 0.        ],\n",
       "       [0.        , 0.        , 0.        ]])"
      ]
     },
     "execution_count": 64,
     "metadata": {},
     "output_type": "execute_result"
    }
   ],
   "source": [
    "F = np.diag(0.5*(1/norm))\n",
    "F[off_indicies, off_indicies] = 0\n",
    "F"
   ]
  },
  {
   "cell_type": "code",
   "execution_count": 70,
   "id": "59c22a6a",
   "metadata": {},
   "outputs": [
    {
     "data": {
      "text/plain": [
       "array([[0.        , 0.        , 0.        ],\n",
       "       [0.        , 1.41421356, 0.        ],\n",
       "       [0.        , 0.        , 0.        ]])"
      ]
     },
     "execution_count": 70,
     "metadata": {},
     "output_type": "execute_result"
    }
   ],
   "source": [
    "F_1 = np.diag(norm)\n",
    "F_1[off_indicies, off_indicies] = 0\n",
    "F_1"
   ]
  },
  {
   "cell_type": "code",
   "execution_count": 71,
   "id": "20036578",
   "metadata": {
    "pycharm": {
     "name": "#%%\n"
    }
   },
   "outputs": [
    {
     "data": {
      "text/plain": [
       "array([[0.35355339, 0.35355339],\n",
       "       [0.35355339, 0.35355339]])"
      ]
     },
     "execution_count": 71,
     "metadata": {},
     "output_type": "execute_result"
    }
   ],
   "source": [
    "loss_matrix = np.linalg.multi_dot([term.T, F, term])\n",
    "loss_matrix"
   ]
  },
  {
   "cell_type": "code",
   "execution_count": 77,
   "id": "cdfe54b4",
   "metadata": {},
   "outputs": [
    {
     "data": {
      "text/plain": [
       "array([[0.        , 0.35355339, 0.        ],\n",
       "       [0.        , 0.35355339, 0.        ]])"
      ]
     },
     "execution_count": 77,
     "metadata": {},
     "output_type": "execute_result"
    }
   ],
   "source": [
    "np.dot(term.T, F)"
   ]
  },
  {
   "cell_type": "code",
   "execution_count": 74,
   "id": "43810f7e",
   "metadata": {},
   "outputs": [
    {
     "data": {
      "text/plain": [
       "array([[1.41421356, 1.41421356],\n",
       "       [1.41421356, 1.41421356]])"
      ]
     },
     "execution_count": 74,
     "metadata": {},
     "output_type": "execute_result"
    }
   ],
   "source": [
    "loss_matrix = np.linalg.multi_dot([term.T, F_1, term])\n",
    "loss_matrix"
   ]
  },
  {
   "cell_type": "code",
   "execution_count": null,
   "id": "c1726868",
   "metadata": {},
   "outputs": [],
   "source": []
  }
 ],
 "metadata": {
  "kernelspec": {
   "display_name": "Python 3 (ipykernel)",
   "language": "python",
   "name": "python3"
  },
  "language_info": {
   "codemirror_mode": {
    "name": "ipython",
    "version": 3
   },
   "file_extension": ".py",
   "mimetype": "text/x-python",
   "name": "python",
   "nbconvert_exporter": "python",
   "pygments_lexer": "ipython3",
   "version": "3.10.4"
  },
  "toc": {
   "base_numbering": 1,
   "nav_menu": {},
   "number_sections": true,
   "sideBar": true,
   "skip_h1_title": false,
   "title_cell": "Table of Contents",
   "title_sidebar": "Contents",
   "toc_cell": false,
   "toc_position": {},
   "toc_section_display": true,
   "toc_window_display": false
  }
 },
 "nbformat": 4,
 "nbformat_minor": 5
}