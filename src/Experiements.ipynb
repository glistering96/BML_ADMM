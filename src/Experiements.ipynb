{
 "cells": [
  {
   "cell_type": "code",
   "execution_count": 42,
   "id": "c1b43271",
   "metadata": {},
   "outputs": [],
   "source": [
    "import pandas as pd\n",
    "import numpy as np\n",
    "\n",
    "DATA_ROOT = \"../data/mfeat/\"\n",
    "X_i = {\"mfeat-\" + x: None for x in [\"fou\", \"fac\", \"kar\", \"mor\", \"pix\", \"zer\"]}"
   ]
  },
  {
   "cell_type": "markdown",
   "id": "377ab655",
   "metadata": {},
   "source": [
    "## Description for data\n",
    "\n",
    "FOU: 76 features\n",
    "\n",
    "FAC: 216 features\n",
    "\n",
    "KAR: 64 features\n",
    "\n",
    "PIX: 240 features\n",
    "\n",
    "ZER: 47 features\n",
    "\n",
    "MOR: 6 features"
   ]
  },
  {
   "cell_type": "code",
   "execution_count": 43,
   "id": "ab06b394",
   "metadata": {},
   "outputs": [
    {
     "name": "stdout",
     "output_type": "stream",
     "text": [
      "Original -> mfeat-fou: (2000, 76)\n",
      "Original -> mfeat-fac: (2000, 216)\n",
      "Original -> mfeat-kar: (2000, 64)\n",
      "Original -> mfeat-mor: (2000, 6)\n",
      "Original -> mfeat-pix: (2000, 240)\n",
      "Original -> mfeat-zer: (2000, 47)\n"
     ]
    }
   ],
   "source": [
    "for k, _ in X_i.items():\n",
    "    X_i[k] = pd.read_csv(DATA_ROOT + k, header=None, delim_whitespace=True)\n",
    "    print(f\"Original -> {k}: {X_i[k].shape}\")"
   ]
  },
  {
   "cell_type": "code",
   "execution_count": 45,
   "id": "7b91bf38",
   "metadata": {},
   "outputs": [
    {
     "name": "stdout",
     "output_type": "stream",
     "text": [
      "(2000,)\n"
     ]
    },
    {
     "data": {
      "text/plain": [
       "array([0, 0, 0, ..., 9, 9, 9])"
      ]
     },
     "execution_count": 45,
     "metadata": {},
     "output_type": "execute_result"
    }
   ],
   "source": [
    "# label set is sequential of elements from 0 to 9 each with 200\n",
    "label = np.repeat(range(10), 200)\n",
    "print(label.shape)\n",
    "label"
   ]
  },
  {
   "cell_type": "code",
   "execution_count": 48,
   "id": "f5e810aa",
   "metadata": {},
   "outputs": [
    {
     "data": {
      "text/plain": [
       "array([[0.15916808, 0.3963739 , 0.00758583],\n",
       "       [0.03237285, 0.0629466 , 0.19749315],\n",
       "       [0.95291415, 0.01735836, 0.51374343],\n",
       "       [0.81394316, 0.92583546, 0.12431873]])"
      ]
     },
     "execution_count": 48,
     "metadata": {},
     "output_type": "execute_result"
    }
   ],
   "source": [
    "temp = np.random.rand(4, 3)\n",
    "temp"
   ]
  },
  {
   "cell_type": "code",
   "execution_count": 49,
   "id": "fe177ddc",
   "metadata": {},
   "outputs": [
    {
     "data": {
      "text/plain": [
       "array([0.42720521, 0.20979471, 1.08271834, 1.2390036 ])"
      ]
     },
     "execution_count": 49,
     "metadata": {},
     "output_type": "execute_result"
    }
   ],
   "source": [
    "np.linalg.norm(temp, axis=1)"
   ]
  },
  {
   "cell_type": "code",
   "execution_count": null,
   "id": "b48bad81",
   "metadata": {},
   "outputs": [],
   "source": []
  }
 ],
 "metadata": {
  "kernelspec": {
   "display_name": "Python 3 (ipykernel)",
   "language": "python",
   "name": "python3"
  },
  "language_info": {
   "codemirror_mode": {
    "name": "ipython",
    "version": 3
   },
   "file_extension": ".py",
   "mimetype": "text/x-python",
   "name": "python",
   "nbconvert_exporter": "python",
   "pygments_lexer": "ipython3",
   "version": "3.10.4"
  }
 },
 "nbformat": 4,
 "nbformat_minor": 5
}
